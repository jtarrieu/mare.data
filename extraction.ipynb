{
 "cells": [
  {
   "cell_type": "markdown",
   "metadata": {},
   "source": [
    "### Connect to database"
   ]
  },
  {
   "cell_type": "code",
   "execution_count": 96,
   "metadata": {},
   "outputs": [],
   "source": [
    "import mariadb # librairie pour se connecter à mariadb\n",
    "import sys\n",
    "import var # import variable configured into var.py\n",
    "\n",
    "\n",
    "# Connect to MariaDB Platform\n",
    "try:\n",
    "    conn = mariadb.connect(\n",
    "        user=var.user,\n",
    "        password=var.password,\n",
    "        host=var.host,\n",
    "        port=3306,\n",
    "    )\n",
    "except mariadb.Error as e:\n",
    "    print(f\"Error connecting to MariaDB Platform: {e}\")\n",
    "    sys.exit(1)\n",
    "\n",
    "# Get Cursor\n",
    "cur = conn.cursor()\n"
   ]
  },
  {
   "cell_type": "markdown",
   "metadata": {},
   "source": [
    "### Retrieve databases on the server\n",
    "❗❗<code>SHOW DATABASES</code> query requires specific right on mariadb server\n",
    "If our user do not get those rights, please run the command with another user\n",
    "Some databases are not supposed to be transfered into Elastic, for exemple : <code>{'information_schema','mysql','sys','performance_schema'}</code>\n"
   ]
  },
  {
   "cell_type": "code",
   "execution_count": 97,
   "metadata": {},
   "outputs": [],
   "source": [
    "cur.execute(\"SHOW DATABASES;\") #* require specific rights on mariadb server\n",
    "\n",
    "result = cur.fetchall() # retrieve all the results\n",
    "\n",
    "cur.close()\n",
    "# Create a list of databases name on the server\n",
    "dbs_list= []\n",
    "for row in result:\n",
    "    dbs_list.append(row[0]) \n",
    "\n",
    "#! TODO : complete unwanted_db with any database that should not be transfered into Elastic\n",
    "unwanted_db = {'information_schema','mysql','sys','performance_schema'}\n",
    "\n",
    "#* dbs_list contain all databases that will be taken into account for batch\n",
    "dbs_list = [db for db in dbs_list if db not in unwanted_db]"
   ]
  },
  {
   "cell_type": "code",
   "execution_count": 98,
   "metadata": {},
   "outputs": [
    {
     "data": {
      "text/plain": [
       "['meteo1', 'mouleconnected']"
      ]
     },
     "metadata": {},
     "output_type": "display_data"
    }
   ],
   "source": [
    "display(dbs_list)"
   ]
  },
  {
   "cell_type": "markdown",
   "metadata": {},
   "source": [
    "### Get tables inside Database\n",
    "We create a dictionnary <code>dict_db</code> with database name as key and value being a list  of tables inside the database"
   ]
  },
  {
   "cell_type": "code",
   "execution_count": 99,
   "metadata": {},
   "outputs": [],
   "source": [
    "# for each db we want to transfer, we store tables names in the dictionnary\n",
    "dict_db = {}\n",
    "for db in dbs_list:\n",
    "    cur = conn.cursor()\n",
    "    query = f\"SHOW TABLES FROM {db}\"\n",
    "    cur.execute(query)\n",
    "    result = cur.fetchall()\n",
    "    result = [value[0] for value in result] # keep only the name of the table\n",
    "    dict_db[db] = result\n",
    "    cur.close()\n"
   ]
  },
  {
   "cell_type": "code",
   "execution_count": 100,
   "metadata": {},
   "outputs": [
    {
     "data": {
      "text/plain": [
       "{'meteo1': ['DATA',\n",
       "  'LOGBOOK',\n",
       "  'ane0',\n",
       "  'bar0',\n",
       "  'cpr0',\n",
       "  'gps0',\n",
       "  'gsm0',\n",
       "  'ntp0',\n",
       "  'rad0',\n",
       "  'the0'],\n",
       " 'mouleconnected': ['Temperature',\n",
       "  'bac',\n",
       "  'capteur',\n",
       "  'data',\n",
       "  'data2',\n",
       "  'lumiere',\n",
       "  'moule',\n",
       "  'users']}"
      ]
     },
     "metadata": {},
     "output_type": "display_data"
    }
   ],
   "source": [
    "display(dict_db)"
   ]
  },
  {
   "cell_type": "markdown",
   "metadata": {},
   "source": [
    "Convert dict of list into dict of dict with list for values extracted"
   ]
  },
  {
   "cell_type": "code",
   "execution_count": 101,
   "metadata": {},
   "outputs": [
    {
     "data": {
      "text/plain": [
       "{'meteo1': {'DATA': [],\n",
       "  'LOGBOOK': [],\n",
       "  'ane0': [],\n",
       "  'bar0': [],\n",
       "  'cpr0': [],\n",
       "  'gps0': [],\n",
       "  'gsm0': [],\n",
       "  'ntp0': [],\n",
       "  'rad0': [],\n",
       "  'the0': []},\n",
       " 'mouleconnected': {'Temperature': [],\n",
       "  'bac': [],\n",
       "  'capteur': [],\n",
       "  'data': [],\n",
       "  'data2': [],\n",
       "  'lumiere': [],\n",
       "  'moule': [],\n",
       "  'users': []}}"
      ]
     },
     "metadata": {},
     "output_type": "display_data"
    }
   ],
   "source": [
    "dict_db_tables = {}\n",
    "for key, values in dict_db.items():\n",
    "    dict_db_tables[key] = {value: [] for value in values}\n",
    "display(dict_db_tables)"
   ]
  },
  {
   "cell_type": "markdown",
   "metadata": {},
   "source": [
    "### Retrieve columns in tables"
   ]
  },
  {
   "cell_type": "code",
   "execution_count": 106,
   "metadata": {},
   "outputs": [
    {
     "ename": "TypeError",
     "evalue": "list indices must be integers or slices, not str",
     "output_type": "error",
     "traceback": [
      "\u001b[1;31m---------------------------------------------------------------------------\u001b[0m",
      "\u001b[1;31mTypeError\u001b[0m                                 Traceback (most recent call last)",
      "\u001b[1;32mc:\\Users\\SSAran\\Desktop\\Files\\duty\\EPF\\5A\\MARE.DATA\\repo\\mare.data\\extraction.ipynb Cell 12\u001b[0m line \u001b[0;36m1\n\u001b[0;32m      <a href='vscode-notebook-cell:/c%3A/Users/SSAran/Desktop/Files/duty/EPF/5A/MARE.DATA/repo/mare.data/extraction.ipynb#X21sZmlsZQ%3D%3D?line=8'>9</a>\u001b[0m         i\u001b[39m=\u001b[39m\u001b[39m0\u001b[39m\n\u001b[0;32m     <a href='vscode-notebook-cell:/c%3A/Users/SSAran/Desktop/Files/duty/EPF/5A/MARE.DATA/repo/mare.data/extraction.ipynb#X21sZmlsZQ%3D%3D?line=9'>10</a>\u001b[0m         \u001b[39mfor\u001b[39;00m i \u001b[39min\u001b[39;00m \u001b[39mrange\u001b[39m(\u001b[39mlen\u001b[39m(cols)):\n\u001b[1;32m---> <a href='vscode-notebook-cell:/c%3A/Users/SSAran/Desktop/Files/duty/EPF/5A/MARE.DATA/repo/mare.data/extraction.ipynb#X21sZmlsZQ%3D%3D?line=10'>11</a>\u001b[0m             dict_db_tables[db][table][cols[i]] \u001b[39m=\u001b[39m {}\n\u001b[0;32m     <a href='vscode-notebook-cell:/c%3A/Users/SSAran/Desktop/Files/duty/EPF/5A/MARE.DATA/repo/mare.data/extraction.ipynb#X21sZmlsZQ%3D%3D?line=12'>13</a>\u001b[0m display(dict_db_tables)\n",
      "\u001b[1;31mTypeError\u001b[0m: list indices must be integers or slices, not str"
     ]
    }
   ],
   "source": [
    "for db in dict_db.keys():\n",
    "    #print(db)\n",
    "    for table in dict_db[db]:\n",
    "        cur = conn.cursor()\n",
    "        query = f\"SHOW COLUMNS FROM {db}.{table}\"\n",
    "        cur.execute(query)\n",
    "        result = cur.fetchall()\n",
    "        cols = [value[0] for value in result]\n",
    "        i=0\n",
    "        for i in range(len(cols)):\n",
    "            dict_db_tables[db][table][cols[i]] = {}\n",
    "\n",
    "display(dict_db_tables)\n",
    "        "
   ]
  },
  {
   "cell_type": "markdown",
   "metadata": {},
   "source": [
    "### Extract data from table\n",
    "#### mouleconnected\n"
   ]
  },
  {
   "cell_type": "code",
   "execution_count": 103,
   "metadata": {},
   "outputs": [
    {
     "data": {
      "text/plain": [
       "{'meteo1': {'DATA': [(20091003092549, 0.0),\n",
       "   (20091003093001, 0.0),\n",
       "   (20091003093527, 0.0),\n",
       "   (20091003094002, 0.0),\n",
       "   (20091003095001, 0.0),\n",
       "   (20091003100002, 0.0),\n",
       "   (20091003101001, 0.0),\n",
       "   (20091003102001, 0.0),\n",
       "   (20091003103001, 0.0),\n",
       "   (20091003104002, 0.0)],\n",
       "  'LOGBOOK': [],\n",
       "  'ane0': [(20080413114420, -99999.0, -99999.0),\n",
       "   (20080413114430, 7.1, 114.0),\n",
       "   (20080413114440, 7.0, 123.0),\n",
       "   (20080413114450, 8.3, 123.0),\n",
       "   (20080413114500, 5.2, 110.0),\n",
       "   (20080413114510, 10.9, 112.0),\n",
       "   (20080413114520, 11.0, 134.0),\n",
       "   (20080413114530, 12.9, 124.0),\n",
       "   (20080413114540, 9.7, 116.0),\n",
       "   (20080413114550, 10.0, 110.0)],\n",
       "  'bar0': [(20080413114420, -99999.0),\n",
       "   (20080413114930, 1018.0),\n",
       "   (20080413115431, 1018.0),\n",
       "   (20080413115931, 1018.0),\n",
       "   (20080413120431, 1018.0),\n",
       "   (20080413120932, 1018.0),\n",
       "   (20080413121748, -99999.0),\n",
       "   (20080413122258, 1018.0),\n",
       "   (20080413122759, 1018.0),\n",
       "   (20080413123259, 1018.0)],\n",
       "  'cpr0': [(20080413114418, -99999.0, -99999.0, -99999.0, -99999.0, -99999.0),\n",
       "   (20080413114920, 1372950.75, 7769.0, 371.0, 38.0, 0.02),\n",
       "   (20080413115425, 1373256.01, 7769.0, 370.0, 37.0, 0.01),\n",
       "   (20080413115930, 1373561.24, 7769.0, 370.0, 38.0, 0.0),\n",
       "   (20080413120436, 1373866.47, 7769.0, 370.0, 38.0, 0.0),\n",
       "   (20080413120941, 1374171.7, 7769.0, 370.0, 38.0, 0.0),\n",
       "   (20080413121746, -99999.0, -99999.0, -99999.0, -99999.0, -99999.0),\n",
       "   (20080413122248, 1374958.85, 7769.0, 369.0, 37.0, 0.05),\n",
       "   (20080413122753, 1375264.09, 7769.0, 369.0, 38.0, 0.02),\n",
       "   (20080413123258, 1375569.29, 7769.0, 369.0, 37.0, 0.01)],\n",
       "  'gps0': [(20080925155515, -99999.0, -99999.0, -99999.0, -99999.0, -99999.0),\n",
       "   (20080925160025, 42.4806833, 3.1370833, -99999.0, -99999.0, -99999.0),\n",
       "   (20080925160525, 42.4806833, 3.1370667, -99999.0, -99999.0, -99999.0),\n",
       "   (20080925161025, 42.4806667, 3.1370667, -99999.0, -99999.0, -99999.0),\n",
       "   (20080925161525, 42.4806667, 3.1370667, -99999.0, -99999.0, -99999.0),\n",
       "   (20080925162025, 42.4806667, 3.1370667, -99999.0, -99999.0, -99999.0),\n",
       "   (20080925162526, 42.4806667, 3.1370833, -99999.0, -99999.0, -99999.0),\n",
       "   (20080925163026, 42.4806667, 3.1370833, -99999.0, -99999.0, -99999.0),\n",
       "   (20080925163526, 42.4806667, 3.1370833, -99999.0, -99999.0, -99999.0),\n",
       "   (20080925164026, 42.4806833, 3.1370667, -99999.0, -99999.0, -99999.0)],\n",
       "  'gsm0': [(20091028092257, -99999.0, -99999.0),\n",
       "   (20091028112258, 0.0, 3.0),\n",
       "   (20091028132302, 0.0, 3.0),\n",
       "   (20091028152307, 0.0, 3.0),\n",
       "   (20091028172311, 0.0, 3.0),\n",
       "   (20091028192316, 0.0, 3.0),\n",
       "   (20091028212321, 0.0, 3.0),\n",
       "   (20091028232325, 0.0, 3.0),\n",
       "   (20091029012330, 0.0, 3.0),\n",
       "   (20091029032334, 0.0, 3.0)],\n",
       "  'ntp0': [(20080413114418, -99999.0),\n",
       "   (20080413114920, -7.028),\n",
       "   (20080413115425, -7.909),\n",
       "   (20080413115930, 3.615),\n",
       "   (20080413120436, -0.344),\n",
       "   (20080413120941, -5.728),\n",
       "   (20080413121746, -99999.0),\n",
       "   (20080413122248, 5.751),\n",
       "   (20080413122753, 3.36),\n",
       "   (20080413123258, -0.716)],\n",
       "  'rad0': [(20081009065711, -99999.0),\n",
       "   (20081009065721, 124.22),\n",
       "   (20081009065731, 124.57),\n",
       "   (20081009065741, 124.97),\n",
       "   (20081009065751, 125.31),\n",
       "   (20081009065801, 125.67),\n",
       "   (20081009065811, 126.03),\n",
       "   (20081009065821, 126.41),\n",
       "   (20081009065831, 126.76),\n",
       "   (20081009065841, 127.13)],\n",
       "  'the0': [(20080413114420, -99999.0),\n",
       "   (20080413114930, 18.5),\n",
       "   (20080413115431, 18.5),\n",
       "   (20080413115931, 17.5),\n",
       "   (20080413120431, 18.5),\n",
       "   (20080413120932, 17.5),\n",
       "   (20080413121748, -99999.0),\n",
       "   (20080413122258, 18.5),\n",
       "   (20080413122759, 17.5),\n",
       "   (20080413123259, 17.5)]},\n",
       " 'mouleconnected': {'Temperature': [(1, 201), (2, 202), (3, 203), (4, 204)],\n",
       "  'bac': [('test', 1),\n",
       "   (' <br />kjihih', 2),\n",
       "   ('Test', 3),\n",
       "   ('', 4),\n",
       "   ('bactruc', 5),\n",
       "   ('bzcmzchin', 6)],\n",
       "  'capteur': [('Volt', 1, None, None, 1, 1),\n",
       "   ('Volt', 2, None, None, 1, 2),\n",
       "   ('Volt', 3, None, None, 1, 3),\n",
       "   ('Volt', 4, None, None, 1, 4),\n",
       "   ('Volt', 5, None, None, 2, 5),\n",
       "   ('Volt', 6, None, None, 2, 6),\n",
       "   ('Volt', 7, None, None, 2, 7),\n",
       "   ('Volt', 8, None, None, 2, 8),\n",
       "   ('Volt', 9, None, None, 3, 9),\n",
       "   ('Volt', 10, None, None, 3, 10)],\n",
       "  'data': [(20200825141815, 1, 2557, 1598365095000, 1),\n",
       "   (20200825141815, 2, 2833, 1598365095000, 2),\n",
       "   (20200825141815, 3, 3032, 1598365095000, 3),\n",
       "   (20200825141815, 4, 2765, 1598365095000, 4),\n",
       "   (20200825141815, 5, 2361, 1598365095000, 5),\n",
       "   (20200825141815, 6, 2959, 1598365095000, 6),\n",
       "   (20200825141815, 7, 3387, 1598365095000, 7),\n",
       "   (20200825141815, 8, 2897, 1598365095000, 8),\n",
       "   (20200825141815, 9, 548, 1598365095000, 9),\n",
       "   (20200825141815, 10, 543, 1598365095000, 10)],\n",
       "  'data2': [(20210414174847, 1, 2267, 1618422526000, 1),\n",
       "   (20210414174847, 2, 2270, 1618422526000, 2),\n",
       "   (20210414174847, 3, 2273, 1618422526000, 3),\n",
       "   (20210414174847, 4, 2267, 1618422526000, 4),\n",
       "   (20210414174847, 5, 2261, 1618422526000, 5),\n",
       "   (20210414174847, 6, 2270, 1618422526000, 6),\n",
       "   (20210414174847, 7, 2264, 1618422526000, 7),\n",
       "   (20210414174847, 8, 2261, 1618422526000, 8),\n",
       "   (20210414174847, 9, 2270, 1618422526000, 9),\n",
       "   (20210414174847, 10, 2270, 1618422526000, 10)],\n",
       "  'lumiere': [(1, 101), (2, 102), (3, 103), (4, 104)],\n",
       "  'moule': [(1, 1),\n",
       "   (1, 2),\n",
       "   (1, 3),\n",
       "   (1, 4),\n",
       "   (2, 5),\n",
       "   (2, 6),\n",
       "   (2, 7),\n",
       "   (2, 8),\n",
       "   (3, 9),\n",
       "   (3, 10)],\n",
       "  'users': [(1,\n",
       "    'lucas',\n",
       "    '$2y$12$16IgusY/5sJJLOAuymc1i.IDQ6cbRrLIz3cpCnDcz5YyTYnL3Fbqi'),\n",
       "   (10,\n",
       "    'admin',\n",
       "    '$2y$12$Vlc0z3ABHprfDGI3JURrxOuNGofN.zecf7qQBB2vBtOoZxPCfhgVe'),\n",
       "   (12,\n",
       "    'test',\n",
       "    '$2y$12$G/w.8RLQuxAyIVCgXxXwzeB4LluD76QyjDwMDID4XPBmY/ggZO7Ga'),\n",
       "   (13, 'a', '$2y$12$2.ekZDW4X0azAKvuBmadWuhEAoguaD7LslcKW/j0OlMLKL1/Yd2Xa')]}}"
      ]
     },
     "metadata": {},
     "output_type": "display_data"
    }
   ],
   "source": [
    "for db in dict_db.keys():\n",
    "    #print(db)\n",
    "    for table in dict_db[db]:\n",
    "        cur = conn.cursor()\n",
    "        query = f\"SELECT * FROM {db}.{table} LIMIT 10\"\n",
    "        cur.execute(query)\n",
    "        result = cur.fetchall()\n",
    "        print(table,result)\n",
    "        dict_db_tables[db][table] = result\n",
    "display(dict_db_tables)"
   ]
  },
  {
   "cell_type": "markdown",
   "metadata": {},
   "source": [
    "### JOIN tables"
   ]
  },
  {
   "cell_type": "code",
   "execution_count": null,
   "metadata": {},
   "outputs": [],
   "source": []
  },
  {
   "cell_type": "code",
   "execution_count": null,
   "metadata": {},
   "outputs": [],
   "source": []
  }
 ],
 "metadata": {
  "kernelspec": {
   "display_name": "venv",
   "language": "python",
   "name": "python3"
  },
  "language_info": {
   "codemirror_mode": {
    "name": "ipython",
    "version": 3
   },
   "file_extension": ".py",
   "mimetype": "text/x-python",
   "name": "python",
   "nbconvert_exporter": "python",
   "pygments_lexer": "ipython3",
   "version": "3.11.5"
  }
 },
 "nbformat": 4,
 "nbformat_minor": 2
}
