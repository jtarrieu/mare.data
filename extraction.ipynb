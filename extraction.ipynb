{
 "cells": [
  {
   "cell_type": "markdown",
   "metadata": {},
   "source": [
    "### Connect to database"
   ]
  },
  {
   "cell_type": "code",
   "execution_count": 74,
   "metadata": {},
   "outputs": [],
   "source": [
    "import mariadb # librairie pour se connecter à mariadb\n",
    "import sys\n",
    "import var # import variable configured into var.py\n",
    "\n",
    "\n",
    "# Connect to MariaDB Platform\n",
    "try:\n",
    "    conn = mariadb.connect(\n",
    "        user=var.user,\n",
    "        password=var.password,\n",
    "        host=var.host,\n",
    "        port=3306,\n",
    "    )\n",
    "except mariadb.Error as e:\n",
    "    print(f\"Error connecting to MariaDB Platform: {e}\")\n",
    "    sys.exit(1)\n",
    "\n",
    "# Get Cursor\n",
    "cur = conn.cursor()\n"
   ]
  },
  {
   "cell_type": "markdown",
   "metadata": {},
   "source": [
    "### Retrieve databases on the server\n",
    "❗❗<code>SHOW DATABASES</code> query requires specific right on mariadb server\n",
    "If our user do not get those rights, please run the command with another user\n",
    "Some databases are not supposed to be transfered into Elastic, for exemple : <code>{'information_schema','mysql','sys','performance_schema'}</code>\n"
   ]
  },
  {
   "cell_type": "code",
   "execution_count": 75,
   "metadata": {},
   "outputs": [],
   "source": [
    "cur.execute(\"SHOW DATABASES;\") #* require specific rights on mariadb server\n",
    "\n",
    "result = cur.fetchall() # retrieve all the results\n",
    "\n",
    "cur.close()\n",
    "# Create a list of databases name on the server\n",
    "dbs_list= []\n",
    "for row in result:\n",
    "    dbs_list.append(row[0]) \n",
    "\n",
    "#! TODO : complete unwanted_db with any database that should not be transfered into Elastic\n",
    "unwanted_db = {'information_schema','mysql','sys','performance_schema'}\n",
    "\n",
    "#* dbs_list contain all databases that will be taken into account for batch\n",
    "dbs_list = [db for db in dbs_list if db not in unwanted_db]"
   ]
  },
  {
   "cell_type": "code",
   "execution_count": 76,
   "metadata": {},
   "outputs": [
    {
     "data": {
      "text/plain": [
       "['meteo1', 'mouleconnected']"
      ]
     },
     "metadata": {},
     "output_type": "display_data"
    }
   ],
   "source": [
    "display(dbs_list)"
   ]
  },
  {
   "cell_type": "markdown",
   "metadata": {},
   "source": [
    "### Get tables inside Database\n",
    "We create a dictionnary <code>dict_db</code> with database name as key and value being a list  of tables inside the database"
   ]
  },
  {
   "cell_type": "code",
   "execution_count": 77,
   "metadata": {},
   "outputs": [],
   "source": [
    "# for each db we want to transfer, we store tables names in the dictionnary\n",
    "dict_db = {}\n",
    "for db in dbs_list:\n",
    "    cur = conn.cursor()\n",
    "    query = f\"SHOW TABLES FROM {db}\"\n",
    "    cur.execute(query)\n",
    "    result = cur.fetchall()\n",
    "    result = [value[0] for value in result] # keep only the name of the table\n",
    "    dict_db[db] = result\n",
    "    cur.close()\n"
   ]
  },
  {
   "cell_type": "code",
   "execution_count": 78,
   "metadata": {},
   "outputs": [
    {
     "data": {
      "text/plain": [
       "{'meteo1': ['DATA',\n",
       "  'LOGBOOK',\n",
       "  'ane0',\n",
       "  'bar0',\n",
       "  'cpr0',\n",
       "  'gps0',\n",
       "  'gsm0',\n",
       "  'ntp0',\n",
       "  'rad0',\n",
       "  'the0'],\n",
       " 'mouleconnected': ['Temperature',\n",
       "  'bac',\n",
       "  'capteur',\n",
       "  'data',\n",
       "  'data2',\n",
       "  'lumiere',\n",
       "  'moule',\n",
       "  'users']}"
      ]
     },
     "metadata": {},
     "output_type": "display_data"
    }
   ],
   "source": [
    "display(dict_db)"
   ]
  },
  {
   "cell_type": "markdown",
   "metadata": {},
   "source": [
    "Convert dict of list into dict of dict with list for values extracted"
   ]
  },
  {
   "cell_type": "code",
   "execution_count": 79,
   "metadata": {},
   "outputs": [
    {
     "data": {
      "text/plain": [
       "{'meteo1': {'DATA': {},\n",
       "  'LOGBOOK': {},\n",
       "  'ane0': {},\n",
       "  'bar0': {},\n",
       "  'cpr0': {},\n",
       "  'gps0': {},\n",
       "  'gsm0': {},\n",
       "  'ntp0': {},\n",
       "  'rad0': {},\n",
       "  'the0': {}},\n",
       " 'mouleconnected': {'Temperature': {},\n",
       "  'bac': {},\n",
       "  'capteur': {},\n",
       "  'data': {},\n",
       "  'data2': {},\n",
       "  'lumiere': {},\n",
       "  'moule': {},\n",
       "  'users': {}}}"
      ]
     },
     "metadata": {},
     "output_type": "display_data"
    }
   ],
   "source": [
    "dict_db_tables = {}\n",
    "for key, values in dict_db.items():\n",
    "    dict_db_tables[key] = {value: {} for value in values}\n",
    "display(dict_db_tables)"
   ]
  },
  {
   "cell_type": "markdown",
   "metadata": {},
   "source": [
    "### Retrieve columns in tables"
   ]
  },
  {
   "cell_type": "code",
   "execution_count": 80,
   "metadata": {},
   "outputs": [
    {
     "data": {
      "text/plain": [
       "{'meteo1': {'DATA': {'utctimestamp': [], 'download': []},\n",
       "  'LOGBOOK': {'utctimestamp': [], 'event': []},\n",
       "  'ane0': {'utctimestamp': [], 'windspeed': [], 'winddirection': []},\n",
       "  'bar0': {'utctimestamp': [], 'atmosphericpressure': []},\n",
       "  'cpr0': {'utctimestamp': [],\n",
       "   'uptime': [],\n",
       "   'diskspace': [],\n",
       "   'ramusage': [],\n",
       "   'runningprocesses': [],\n",
       "   'cpuload': []},\n",
       "  'gps0': {'utctimestamp': [],\n",
       "   'latitude': [],\n",
       "   'longitude': [],\n",
       "   'satellites': [],\n",
       "   'hdop': [],\n",
       "   'altitude': []},\n",
       "  'gsm0': {'utctimestamp': [], 'atstatus': [], 'smsstatus': []},\n",
       "  'ntp0': {'utctimestamp': [], 'offset': []},\n",
       "  'rad0': {'utctimestamp': [], 'parirradiance': []},\n",
       "  'the0': {'utctimestamp': [], 'airtemperature': []}},\n",
       " 'mouleconnected': {'Temperature': {'IdBac': [], 'IdTemperature': []},\n",
       "  'bac': {'Description': [], 'IdBac': []},\n",
       "  'capteur': {'UniteMesure': [],\n",
       "   'IdMoule': [],\n",
       "   'IdTemperature': [],\n",
       "   'IdLumiere': [],\n",
       "   'IdBac': [],\n",
       "   'IdCapteur': []},\n",
       "  'data': {'DateMesure': [],\n",
       "   'IdCapteur': [],\n",
       "   'ValMesure': [],\n",
       "   'ConvTimeStamp': [],\n",
       "   'IdData': []},\n",
       "  'data2': {'DateMesure': [],\n",
       "   'IdCapteur': [],\n",
       "   'ValMesure': [],\n",
       "   'ConvTimeStamp': [],\n",
       "   'IdData': []},\n",
       "  'lumiere': {'IdBac': [], 'IdLumiere': []},\n",
       "  'moule': {'IdBac': [], 'IdMoule': []},\n",
       "  'users': {'Id': [], 'Pseudo': [], 'Password': []}}}"
      ]
     },
     "metadata": {},
     "output_type": "display_data"
    }
   ],
   "source": [
    "for db in dict_db.keys():\n",
    "    for table in dict_db[db]:\n",
    "        cur = conn.cursor()\n",
    "        query = f\"SHOW COLUMNS FROM {db}.{table}\"\n",
    "        cur.execute(query)\n",
    "        result = cur.fetchall()\n",
    "        cols = [value[0] for value in result]\n",
    "        i=0\n",
    "        for i in range(len(cols)):\n",
    "            dict_db_tables[db][table][cols[i]] = []\n",
    "\n",
    "display(dict_db_tables)\n",
    "        "
   ]
  },
  {
   "cell_type": "markdown",
   "metadata": {},
   "source": [
    "### Extract data from table and insert it in the right column"
   ]
  },
  {
   "cell_type": "code",
   "execution_count": 81,
   "metadata": {},
   "outputs": [],
   "source": [
    "for db in dict_db.keys():\n",
    "    for table in dict_db[db]:\n",
    "        cur = conn.cursor()\n",
    "        query = f\"SELECT * FROM {db}.{table}\"\n",
    "        cur.execute(query)\n",
    "        result = cur.fetchall()\n",
    "        i = 0\n",
    "        j = 0\n",
    "        for col in dict_db_tables[db][table]:\n",
    "            for i in range(len(result)):\n",
    "                dict_db_tables[db][table][col].append(result[i][j])\n",
    "            j+=1\n",
    "            \n"
   ]
  }
 ],
 "metadata": {
  "kernelspec": {
   "display_name": "venv",
   "language": "python",
   "name": "python3"
  },
  "language_info": {
   "codemirror_mode": {
    "name": "ipython",
    "version": 3
   },
   "file_extension": ".py",
   "mimetype": "text/x-python",
   "name": "python",
   "nbconvert_exporter": "python",
   "pygments_lexer": "ipython3",
   "version": "3.11.5"
  }
 },
 "nbformat": 4,
 "nbformat_minor": 2
}
