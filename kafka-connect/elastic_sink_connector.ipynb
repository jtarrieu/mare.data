{
 "cells": [
  {
   "cell_type": "markdown",
   "id": "073dc8af-884e-4cb0-9af4-6003bb539abb",
   "metadata": {},
   "source": [
    "# Elastic sink connector\n",
    "\n",
    "sources:\n",
    "- https://docs.confluent.io/platform/current/connect/references/restapi.html\n",
    "\n",
    "This notebook explain how to connect an elasticsearch **index** to a Kafka **topic**.\n",
    "\n",
    "Pre-requisites:\n",
    "- elasticsearch, kafka(-connect) up and running\n",
    "- elastic-sink-connector.jar downloaded inside the **project/connectors** directory.\n"
   ]
  },
  {
   "cell_type": "markdown",
   "id": "e19b37c7-c608-4a77-9fbd-87d0b4738cbf",
   "metadata": {},
   "source": [
    "## Setup\n",
    "We want to communicate and send json to the kafka-connect container via its REST API. We nee **requests** and **json** modules."
   ]
  },
  {
   "cell_type": "code",
   "execution_count": 7,
   "id": "c6eac55e-b376-4682-ab7e-90ea5ae9c483",
   "metadata": {},
   "outputs": [],
   "source": [
    "import requests\n",
    "import json\n",
    "\n",
    "connect_url = \"http://kafka-connect:8083\"  # URL to your Kafka Connect REST API\n",
    "# headers for the http requests\n",
    "headers = {\"Content-Type\": \"application/json; charset=utf-8\",\n",
    "           \"Accept\": \"application/json\"\n",
    "          }"
   ]
  },
  {
   "cell_type": "markdown",
   "id": "93ab0d88-290b-47fe-9270-bcaea4616774",
   "metadata": {},
   "source": [
    "## List connectors"
   ]
  },
  {
   "cell_type": "code",
   "execution_count": 8,
   "id": "c048ee3a-70f8-48a0-8292-0f27ef5f0c0c",
   "metadata": {},
   "outputs": [
    {
     "name": "stdout",
     "output_type": "stream",
     "text": [
      "List of the connectors: [\"meteo\"].\n"
     ]
    }
   ],
   "source": [
    "import requests\n",
    "import json\n",
    "\n",
    "connect_url = \"http://kafka-connect:8083\"  # URL to your Kafka Connect REST API\n",
    "# headers for the http requests\n",
    "headers = {\"Content-Type\": \"application/json; charset=utf-8\",\n",
    "           \"Accept\": \"application/json\"\n",
    "          }\n",
    "# request\n",
    "response = requests.get(f'{connect_url}/connectors', headers=headers)\n",
    "\n",
    "# Check the response\n",
    "if response.status_code == 200:\n",
    "    print(f\"List of the connectors: {response.text}.\")\n",
    "else:\n",
    "    print(f\"Failed to list connectors: {response.status_code} - {response.text}\")"
   ]
  },
  {
   "cell_type": "markdown",
   "id": "5c61d051-2f57-4c91-bbea-e82c4069936d",
   "metadata": {},
   "source": [
    "## Connector configuration\n",
    "\n",
    "We need to write the specifications of the connection between the **topic** and the **index**.\n",
    "\n",
    "You can link multiple topics."
   ]
  },
  {
   "cell_type": "code",
   "execution_count": 9,
   "id": "4144e396-b3e3-4bcb-ba7d-d493adeaaae1",
   "metadata": {},
   "outputs": [
    {
     "ename": "KeyboardInterrupt",
     "evalue": "Interrupted by user",
     "output_type": "error",
     "traceback": [
      "\u001b[0;31m---------------------------------------------------------------------------\u001b[0m",
      "\u001b[0;31mKeyboardInterrupt\u001b[0m                         Traceback (most recent call last)",
      "Cell \u001b[0;32mIn[9], line 1\u001b[0m\n\u001b[0;32m----> 1\u001b[0m connector_name \u001b[38;5;241m=\u001b[39m \u001b[38;5;28;43minput\u001b[39;49m\u001b[43m(\u001b[49m\u001b[38;5;124;43m'\u001b[39;49m\u001b[38;5;124;43mEnter a name for the connector: \u001b[39;49m\u001b[38;5;124;43m'\u001b[39;49m\u001b[43m)\u001b[49m\n\u001b[1;32m      2\u001b[0m topic_name \u001b[38;5;241m=\u001b[39m \u001b[38;5;28minput\u001b[39m(\u001b[38;5;124m'\u001b[39m\u001b[38;5;124mEnter the topic names (separated by a comma): \u001b[39m\u001b[38;5;124m'\u001b[39m)\n\u001b[1;32m      3\u001b[0m index_name \u001b[38;5;241m=\u001b[39m \u001b[38;5;28minput\u001b[39m(\u001b[38;5;124m'\u001b[39m\u001b[38;5;124mEnter the index name: \u001b[39m\u001b[38;5;124m'\u001b[39m)\n",
      "File \u001b[0;32m/opt/conda/lib/python3.11/site-packages/ipykernel/kernelbase.py:1202\u001b[0m, in \u001b[0;36mKernel.raw_input\u001b[0;34m(self, prompt)\u001b[0m\n\u001b[1;32m   1200\u001b[0m     msg \u001b[38;5;241m=\u001b[39m \u001b[38;5;124m\"\u001b[39m\u001b[38;5;124mraw_input was called, but this frontend does not support input requests.\u001b[39m\u001b[38;5;124m\"\u001b[39m\n\u001b[1;32m   1201\u001b[0m     \u001b[38;5;28;01mraise\u001b[39;00m StdinNotImplementedError(msg)\n\u001b[0;32m-> 1202\u001b[0m \u001b[38;5;28;01mreturn\u001b[39;00m \u001b[38;5;28;43mself\u001b[39;49m\u001b[38;5;241;43m.\u001b[39;49m\u001b[43m_input_request\u001b[49m\u001b[43m(\u001b[49m\n\u001b[1;32m   1203\u001b[0m \u001b[43m    \u001b[49m\u001b[38;5;28;43mstr\u001b[39;49m\u001b[43m(\u001b[49m\u001b[43mprompt\u001b[49m\u001b[43m)\u001b[49m\u001b[43m,\u001b[49m\n\u001b[1;32m   1204\u001b[0m \u001b[43m    \u001b[49m\u001b[38;5;28;43mself\u001b[39;49m\u001b[38;5;241;43m.\u001b[39;49m\u001b[43m_parent_ident\u001b[49m\u001b[43m[\u001b[49m\u001b[38;5;124;43m\"\u001b[39;49m\u001b[38;5;124;43mshell\u001b[39;49m\u001b[38;5;124;43m\"\u001b[39;49m\u001b[43m]\u001b[49m\u001b[43m,\u001b[49m\n\u001b[1;32m   1205\u001b[0m \u001b[43m    \u001b[49m\u001b[38;5;28;43mself\u001b[39;49m\u001b[38;5;241;43m.\u001b[39;49m\u001b[43mget_parent\u001b[49m\u001b[43m(\u001b[49m\u001b[38;5;124;43m\"\u001b[39;49m\u001b[38;5;124;43mshell\u001b[39;49m\u001b[38;5;124;43m\"\u001b[39;49m\u001b[43m)\u001b[49m\u001b[43m,\u001b[49m\n\u001b[1;32m   1206\u001b[0m \u001b[43m    \u001b[49m\u001b[43mpassword\u001b[49m\u001b[38;5;241;43m=\u001b[39;49m\u001b[38;5;28;43;01mFalse\u001b[39;49;00m\u001b[43m,\u001b[49m\n\u001b[1;32m   1207\u001b[0m \u001b[43m\u001b[49m\u001b[43m)\u001b[49m\n",
      "File \u001b[0;32m/opt/conda/lib/python3.11/site-packages/ipykernel/kernelbase.py:1245\u001b[0m, in \u001b[0;36mKernel._input_request\u001b[0;34m(self, prompt, ident, parent, password)\u001b[0m\n\u001b[1;32m   1242\u001b[0m \u001b[38;5;28;01mexcept\u001b[39;00m \u001b[38;5;167;01mKeyboardInterrupt\u001b[39;00m:\n\u001b[1;32m   1243\u001b[0m     \u001b[38;5;66;03m# re-raise KeyboardInterrupt, to truncate traceback\u001b[39;00m\n\u001b[1;32m   1244\u001b[0m     msg \u001b[38;5;241m=\u001b[39m \u001b[38;5;124m\"\u001b[39m\u001b[38;5;124mInterrupted by user\u001b[39m\u001b[38;5;124m\"\u001b[39m\n\u001b[0;32m-> 1245\u001b[0m     \u001b[38;5;28;01mraise\u001b[39;00m \u001b[38;5;167;01mKeyboardInterrupt\u001b[39;00m(msg) \u001b[38;5;28;01mfrom\u001b[39;00m \u001b[38;5;28;01mNone\u001b[39;00m\n\u001b[1;32m   1246\u001b[0m \u001b[38;5;28;01mexcept\u001b[39;00m \u001b[38;5;167;01mException\u001b[39;00m:\n\u001b[1;32m   1247\u001b[0m     \u001b[38;5;28mself\u001b[39m\u001b[38;5;241m.\u001b[39mlog\u001b[38;5;241m.\u001b[39mwarning(\u001b[38;5;124m\"\u001b[39m\u001b[38;5;124mInvalid Message:\u001b[39m\u001b[38;5;124m\"\u001b[39m, exc_info\u001b[38;5;241m=\u001b[39m\u001b[38;5;28;01mTrue\u001b[39;00m)\n",
      "\u001b[0;31mKeyboardInterrupt\u001b[0m: Interrupted by user"
     ]
    }
   ],
   "source": [
    "connector_name = input('Enter a name for the connector: ')\n",
    "topic_name = input('Enter the topic names (separated by a comma): ')\n",
    "index_name = input('Enter the index name: ')\n",
    "\n",
    "connector_config ={\n",
    "  \"name\": connector_name, # name of the connector\n",
    "  \"config\": {\n",
    "    \"connector.class\": \"io.confluent.connect.elasticsearch.ElasticsearchSinkConnector\", # choose your connector\n",
    "    \"tasks.max\": \"1\",  # max number of tasks at the same time\n",
    "    \"topics\": topic_name, # names of the topics \"topic-1, topic-2, ...\"\n",
    "    \"key.ignore\": \"true\", # should it take the key in consideration or not\n",
    "    \"schema.ignore\": \"true\", # should it ignore the schema ?\n",
    "    \"connection.url\": \"http://elasticsearch:9200\", # url of the elasticsearch service\n",
    "    \"type.name\": \"_doc\", # the identifier to search for a document ex /my-index/_doc/id\n",
    "    \"value.converter\": \"org.apache.kafka.connect.json.JsonConverter\",\n",
    "    \"value.converter.schemas.enable\": \"false\",\n",
    "    \"index.name\": index_name\n",
    "  }\n",
    "}"
   ]
  },
  {
   "cell_type": "markdown",
   "id": "bfca27ef-2170-4da5-ab35-1e1aba4bd3fe",
   "metadata": {},
   "source": [
    "## Create an index\n",
    "It is important to set a mapping inside elasticsearch order to have the timestamp and geopoint available inside our index."
   ]
  },
  {
   "cell_type": "code",
   "execution_count": 5,
   "id": "7c292b90-52ec-4ae8-804b-09c04f22b7b1",
   "metadata": {},
   "outputs": [
    {
     "name": "stdin",
     "output_type": "stream",
     "text": [
      "index name:  meteo\n"
     ]
    },
    {
     "name": "stdout",
     "output_type": "stream",
     "text": [
      "Failed to create index. Status code: 400, Response: {\"error\":{\"root_cause\":[{\"type\":\"resource_already_exists_exception\",\"reason\":\"index [meteo/-2vjLDVOTu-BDK07LDcV0w] already exists\",\"index_uuid\":\"-2vjLDVOTu-BDK07LDcV0w\",\"index\":\"meteo\"}],\"type\":\"resource_already_exists_exception\",\"reason\":\"index [meteo/-2vjLDVOTu-BDK07LDcV0w] already exists\",\"index_uuid\":\"-2vjLDVOTu-BDK07LDcV0w\",\"index\":\"meteo\"},\"status\":400}\n"
     ]
    }
   ],
   "source": [
    "import requests\n",
    "\n",
    "# Replace with your Elasticsearch host and port\n",
    "es_host = 'http://elasticsearch:9200'\n",
    "\n",
    "# Replace with your desired index name\n",
    "index_name = input('index name: ')\n",
    "\n",
    "# Define the index mapping\n",
    "index_mapping = {\n",
    "    \"mappings\": {\n",
    "        \"properties\": {\n",
    "            \"timestamp\": {\n",
    "                \"type\": \"date\",\n",
    "                \"format\": \"yyyy-MM-dd HH:mm:ss.SSSSSS\"\n",
    "            },\n",
    "            \"temperature\": {\n",
    "                \"type\": \"float\"\n",
    "            },\n",
    "            \"humidity\": {\n",
    "                \"type\": \"float\"\n",
    "            },\n",
    "            \"pressure\": {\n",
    "                \"type\": \"float\"\n",
    "            },\n",
    "            \"sensor_id\": {\n",
    "                \"type\": \"integer\"\n",
    "            },\n",
    "            \"location\": {\n",
    "                \"type\": \"geo_point\"\n",
    "            }\n",
    "        }\n",
    "    }\n",
    "}\n",
    "\n",
    "# Create the index with mapping\n",
    "index_url = f\"{es_host}/{index_name}\"\n",
    "response = requests.put(index_url, json=index_mapping)\n",
    "\n",
    "# Check the response status\n",
    "if response.status_code == 200:\n",
    "    print(f\"Index '{index_name}' created successfully.\")\n",
    "else:\n",
    "    print(f\"Failed to create index. Status code: {response.status_code}, Response: {response.text}\")\n"
   ]
  },
  {
   "cell_type": "markdown",
   "id": "c473c905-9ea5-41d2-aae8-8ccfa4a3f6ee",
   "metadata": {},
   "source": [
    "## Create the connector\n",
    "You should first create an  index with a correct mapping.\n",
    "Let's inject the configuration dict to kafka-connect via a http **POST** requests at the **/connectors/** level to connect the **topic** and the **index**."
   ]
  },
  {
   "cell_type": "code",
   "execution_count": 11,
   "id": "09541f2a-a1e8-4998-aeb2-8ec0cd8e7722",
   "metadata": {},
   "outputs": [
    {
     "name": "stdout",
     "output_type": "stream",
     "text": [
      "Connector 'meteo' created successfully.\n"
     ]
    }
   ],
   "source": [
    "# Create the connector\n",
    "response = requests.post(f\"{connect_url}/connectors/\",\n",
    "                         headers=headers,\n",
    "                         data=json.dumps(connector_config))\n",
    "\n",
    "# Check the response\n",
    "if response.status_code == 201:\n",
    "    print(f\"Connector '{connector_name}' created successfully.\")\n",
    "else:\n",
    "    print(f\"Failed to create connector: {response.status_code} - {response.text}\")\n"
   ]
  },
  {
   "cell_type": "markdown",
   "id": "5afc7aae-ad03-4442-8bc2-c7e676184c88",
   "metadata": {},
   "source": [
    "## Describe a connector"
   ]
  },
  {
   "cell_type": "code",
   "execution_count": 21,
   "id": "11467194-c2e9-4fb7-a88d-808ffaca0e74",
   "metadata": {},
   "outputs": [
    {
     "name": "stdin",
     "output_type": "stream",
     "text": [
      "Enter the name of the connector:  meteo\n"
     ]
    },
    {
     "name": "stdout",
     "output_type": "stream",
     "text": [
      "Description meteo: {\"name\":\"meteo\",\"config\":{\"connector.class\":\"io.confluent.connect.elasticsearch.ElasticsearchSinkConnector\",\"type.name\":\"_doc\",\"index.name\":\"meteo\",\"tasks.max\":\"1\",\"topics\":\"meteo\",\"value.converter.schemas.enable\":\"false\",\"name\":\"meteo\",\"key.ignore\":\"true\",\"connection.url\":\"http://elasticsearch:9200\",\"value.converter\":\"org.apache.kafka.connect.json.JsonConverter\",\"schema.ignore\":\"true\"},\"tasks\":[{\"connector\":\"meteo\",\"task\":0}],\"type\":\"sink\"}.\n"
     ]
    }
   ],
   "source": [
    "# asking for a connector name\n",
    "connector_name = input('Enter the name of the connector: ')\n",
    "\n",
    "# request\n",
    "response = requests.get(f'{connect_url}/connectors/{connector_name}', headers=headers)\n",
    "\n",
    "# Check the response\n",
    "if response.status_code == 200:\n",
    "    print(f\"Description {connector_name}: {response.text}.\")\n",
    "else:\n",
    "    print(f\"Failed to list connectors: {response.status_code} - {response.text}\")"
   ]
  },
  {
   "cell_type": "markdown",
   "id": "47cfd351-cee3-4ce5-b34b-b47ed6a4f956",
   "metadata": {},
   "source": [
    "## Delete a connector"
   ]
  },
  {
   "cell_type": "code",
   "execution_count": 12,
   "id": "6a50bfaa-ec2d-4e42-bb6e-4578a908c4a9",
   "metadata": {},
   "outputs": [
    {
     "name": "stdin",
     "output_type": "stream",
     "text": [
      "Enter the name of the connector:  meteo\n"
     ]
    },
    {
     "name": "stdout",
     "output_type": "stream",
     "text": [
      "Connector meteo deleted.\n"
     ]
    }
   ],
   "source": [
    "# asking for a connector name\n",
    "connector_name = input('Enter the name of the connector: ')\n",
    "\n",
    "# request\n",
    "response = requests.delete(f'{connect_url}/connectors/{connector_name}', headers=headers)\n",
    "\n",
    "# Check the response\n",
    "if response.status_code == 204:\n",
    "    print(f\"Connector {connector_name} deleted.\")\n",
    "else:\n",
    "    print(f\"Failed to delete connector: {response.status_code} - {response.text}\")"
   ]
  },
  {
   "cell_type": "code",
   "execution_count": null,
   "id": "6b89d661-1dbd-4bb4-975b-485cfa1d496b",
   "metadata": {},
   "outputs": [],
   "source": []
  }
 ],
 "metadata": {
  "kernelspec": {
   "display_name": "Python 3 (ipykernel)",
   "language": "python",
   "name": "python3"
  },
  "language_info": {
   "codemirror_mode": {
    "name": "ipython",
    "version": 3
   },
   "file_extension": ".py",
   "mimetype": "text/x-python",
   "name": "python",
   "nbconvert_exporter": "python",
   "pygments_lexer": "ipython3",
   "version": "3.11.6"
  }
 },
 "nbformat": 4,
 "nbformat_minor": 5
}
