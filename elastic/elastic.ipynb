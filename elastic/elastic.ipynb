{
 "cells": [
  {
   "cell_type": "markdown",
   "id": "16a49346-40b6-4739-9eaa-c07e5111e00e",
   "metadata": {},
   "source": [
    "# Elastic basics"
   ]
  },
  {
   "cell_type": "markdown",
   "id": "e2b971a7-feeb-41bc-a0db-04a3b3080b41",
   "metadata": {},
   "source": [
    "## install the client"
   ]
  },
  {
   "cell_type": "code",
   "execution_count": 4,
   "id": "2aab935f-7254-4fc0-92a2-aeae23f6bfc3",
   "metadata": {},
   "outputs": [
    {
     "name": "stdout",
     "output_type": "stream",
     "text": [
      "Collecting elasticsearch\n",
      "  Using cached elasticsearch-8.11.1-py3-none-any.whl.metadata (5.4 kB)\n",
      "Collecting elastic-transport<9,>=8 (from elasticsearch)\n",
      "  Using cached elastic_transport-8.11.0-py3-none-any.whl.metadata (3.5 kB)\n",
      "Requirement already satisfied: urllib3<3,>=1.26.2 in /opt/conda/lib/python3.11/site-packages (from elastic-transport<9,>=8->elasticsearch) (2.0.7)\n",
      "Requirement already satisfied: certifi in /opt/conda/lib/python3.11/site-packages (from elastic-transport<9,>=8->elasticsearch) (2023.7.22)\n",
      "Using cached elasticsearch-8.11.1-py3-none-any.whl (412 kB)\n",
      "Using cached elastic_transport-8.11.0-py3-none-any.whl (59 kB)\n",
      "Installing collected packages: elastic-transport, elasticsearch\n",
      "Successfully installed elastic-transport-8.11.0 elasticsearch-8.11.1\n"
     ]
    }
   ],
   "source": [
    "!pip install elasticsearch"
   ]
  },
  {
   "cell_type": "markdown",
   "id": "15614059-8018-4299-b621-1ca2b30eee72",
   "metadata": {},
   "source": [
    "## Import the client"
   ]
  },
  {
   "cell_type": "code",
   "execution_count": 4,
   "id": "9b267341-19a1-4554-9d16-5ec6b96ceb5a",
   "metadata": {},
   "outputs": [],
   "source": [
    "from elasticsearch import Elasticsearch"
   ]
  },
  {
   "cell_type": "markdown",
   "id": "26be091b-87bf-47cb-9e29-7cadf7119804",
   "metadata": {},
   "source": [
    "## Create a client instance\n",
    "- You need to provide the ip address of the database"
   ]
  },
  {
   "cell_type": "code",
   "execution_count": 5,
   "id": "ebbc937d-ba6e-4a59-80f0-c5022e31d6b4",
   "metadata": {},
   "outputs": [],
   "source": [
    "es = Elasticsearch(\"http://elasticsearch:9200\")"
   ]
  },
  {
   "cell_type": "markdown",
   "id": "8cf18993-2ea2-4236-ba92-86e1a2f34430",
   "metadata": {},
   "source": [
    "## Description of the database"
   ]
  },
  {
   "cell_type": "code",
   "execution_count": 6,
   "id": "91e2a3c0-cf74-4a1a-a1e9-d5756584850b",
   "metadata": {},
   "outputs": [
    {
     "data": {
      "text/plain": [
       "{'name': 'c67dec3bdf8b',\n",
       " 'cluster_name': 'docker-cluster',\n",
       " 'cluster_uuid': 'EyeuIT9wT2mT3qhJzMYkxw',\n",
       " 'version': {'number': '8.10.2',\n",
       "  'build_flavor': 'default',\n",
       "  'build_type': 'docker',\n",
       "  'build_hash': '6d20dd8ce62365be9b1aca96427de4622e970e9e',\n",
       "  'build_date': '2023-09-19T08:16:24.564900370Z',\n",
       "  'build_snapshot': False,\n",
       "  'lucene_version': '9.7.0',\n",
       "  'minimum_wire_compatibility_version': '7.17.0',\n",
       "  'minimum_index_compatibility_version': '7.0.0'},\n",
       " 'tagline': 'You Know, for Search'}"
      ]
     },
     "execution_count": 6,
     "metadata": {},
     "output_type": "execute_result"
    }
   ],
   "source": [
    "es.info().body"
   ]
  },
  {
   "cell_type": "markdown",
   "id": "2b033165-dd50-4335-a302-91ceff6e9e34",
   "metadata": {},
   "source": [
    "## Create an index"
   ]
  },
  {
   "cell_type": "code",
   "execution_count": 8,
   "id": "8761c8a9-ed51-4702-bac3-8d4625eb2b28",
   "metadata": {},
   "outputs": [
    {
     "name": "stdin",
     "output_type": "stream",
     "text": [
      "index name:  omar6\n"
     ]
    },
    {
     "data": {
      "text/plain": [
       "ObjectApiResponse({'acknowledged': True, 'shards_acknowledged': True, 'index': 'omar6'})"
      ]
     },
     "execution_count": 8,
     "metadata": {},
     "output_type": "execute_result"
    }
   ],
   "source": [
    "index_name = input('index name: ')\n",
    "es.indices.create(index=index_name)"
   ]
  },
  {
   "cell_type": "markdown",
   "id": "1058dd8a-fbb0-4208-9a03-1f9528528aea",
   "metadata": {},
   "source": [
    "## Insert a document in an index"
   ]
  },
  {
   "cell_type": "code",
   "execution_count": 9,
   "id": "7170fa9c-aa6b-4964-bf7c-3902f7480efe",
   "metadata": {},
   "outputs": [
    {
     "data": {
      "text/plain": [
       "ObjectApiResponse({'_index': 'omar1', '_id': 'my_document_id', '_version': 2, 'result': 'updated', '_shards': {'total': 2, 'successful': 1, 'failed': 0}, '_seq_no': 1, '_primary_term': 6})"
      ]
     },
     "execution_count": 9,
     "metadata": {},
     "output_type": "execute_result"
    }
   ],
   "source": [
    "es.index(\n",
    "    index=\"omar1\",\n",
    "    id=\"my_document_id\",\n",
    "    document={\n",
    "        \"foo\": \"foo\",\n",
    "        \"bar\": \"bar\",\n",
    "    },\n",
    ")\n"
   ]
  },
  {
   "cell_type": "markdown",
   "id": "8c62a791-36f7-4114-96e6-df87258b4f26",
   "metadata": {},
   "source": [
    "## Get the documents of an index"
   ]
  },
  {
   "cell_type": "code",
   "execution_count": 10,
   "id": "fdd55db1-8802-498d-9d27-a76bd9748e28",
   "metadata": {},
   "outputs": [
    {
     "name": "stdin",
     "output_type": "stream",
     "text": [
      "index name: omar6\n"
     ]
    },
    {
     "data": {
      "text/plain": [
       "ObjectApiResponse({'took': 1, 'timed_out': False, '_shards': {'total': 1, 'successful': 1, 'skipped': 0, 'failed': 0}, 'hits': {'total': {'value': 0, 'relation': 'eq'}, 'max_score': None, 'hits': []}})"
      ]
     },
     "execution_count": 10,
     "metadata": {},
     "output_type": "execute_result"
    }
   ],
   "source": [
    "index = input('index name:')\n",
    "es.search(index=index)"
   ]
  },
  {
   "cell_type": "markdown",
   "id": "4b1399e2-7250-47ab-9cae-70c2593bbadc",
   "metadata": {},
   "source": [
    "## Update a document"
   ]
  },
  {
   "cell_type": "code",
   "execution_count": 11,
   "id": "95f084a9-966d-4b9f-938a-68f97b07084c",
   "metadata": {},
   "outputs": [
    {
     "ename": "NotFoundError",
     "evalue": "NotFoundError(404, 'document_missing_exception', '[my_document_id]: document missing')",
     "output_type": "error",
     "traceback": [
      "\u001b[0;31m---------------------------------------------------------------------------\u001b[0m",
      "\u001b[0;31mNotFoundError\u001b[0m                             Traceback (most recent call last)",
      "Cell \u001b[0;32mIn[11], line 1\u001b[0m\n\u001b[0;32m----> 1\u001b[0m \u001b[43mes\u001b[49m\u001b[38;5;241;43m.\u001b[39;49m\u001b[43mupdate\u001b[49m\u001b[43m(\u001b[49m\n\u001b[1;32m      2\u001b[0m \u001b[43m    \u001b[49m\u001b[43mindex\u001b[49m\u001b[38;5;241;43m=\u001b[39;49m\u001b[38;5;124;43m\"\u001b[39;49m\u001b[38;5;124;43mmeteo\u001b[39;49m\u001b[38;5;124;43m\"\u001b[39;49m\u001b[43m,\u001b[49m\n\u001b[1;32m      3\u001b[0m \u001b[43m    \u001b[49m\u001b[38;5;28;43mid\u001b[39;49m\u001b[38;5;241;43m=\u001b[39;49m\u001b[38;5;124;43m\"\u001b[39;49m\u001b[38;5;124;43mmy_document_id\u001b[39;49m\u001b[38;5;124;43m\"\u001b[39;49m\u001b[43m,\u001b[49m\n\u001b[1;32m      4\u001b[0m \u001b[43m    \u001b[49m\u001b[43mdoc\u001b[49m\u001b[38;5;241;43m=\u001b[39;49m\u001b[43m{\u001b[49m\n\u001b[1;32m      5\u001b[0m \u001b[43m        \u001b[49m\u001b[38;5;124;43m\"\u001b[39;49m\u001b[38;5;124;43mfoo\u001b[39;49m\u001b[38;5;124;43m\"\u001b[39;49m\u001b[43m:\u001b[49m\u001b[43m \u001b[49m\u001b[38;5;124;43m\"\u001b[39;49m\u001b[38;5;124;43mbar\u001b[39;49m\u001b[38;5;124;43m\"\u001b[39;49m\u001b[43m,\u001b[49m\n\u001b[1;32m      6\u001b[0m \u001b[43m        \u001b[49m\u001b[38;5;124;43m\"\u001b[39;49m\u001b[38;5;124;43mnew_field\u001b[39;49m\u001b[38;5;124;43m\"\u001b[39;49m\u001b[43m:\u001b[49m\u001b[43m \u001b[49m\u001b[38;5;124;43m\"\u001b[39;49m\u001b[38;5;124;43mnew value\u001b[39;49m\u001b[38;5;124;43m\"\u001b[39;49m\u001b[43m,\u001b[49m\n\u001b[1;32m      7\u001b[0m \u001b[43m    \u001b[49m\u001b[43m}\u001b[49m\u001b[43m,\u001b[49m\n\u001b[1;32m      8\u001b[0m \u001b[43m)\u001b[49m\n",
      "File \u001b[0;32m/opt/conda/lib/python3.11/site-packages/elasticsearch/_sync/client/utils.py:402\u001b[0m, in \u001b[0;36m_rewrite_parameters.<locals>.wrapper.<locals>.wrapped\u001b[0;34m(*args, **kwargs)\u001b[0m\n\u001b[1;32m    399\u001b[0m         \u001b[38;5;28;01mexcept\u001b[39;00m \u001b[38;5;167;01mKeyError\u001b[39;00m:\n\u001b[1;32m    400\u001b[0m             \u001b[38;5;28;01mpass\u001b[39;00m\n\u001b[0;32m--> 402\u001b[0m \u001b[38;5;28;01mreturn\u001b[39;00m \u001b[43mapi\u001b[49m\u001b[43m(\u001b[49m\u001b[38;5;241;43m*\u001b[39;49m\u001b[43margs\u001b[49m\u001b[43m,\u001b[49m\u001b[43m \u001b[49m\u001b[38;5;241;43m*\u001b[39;49m\u001b[38;5;241;43m*\u001b[39;49m\u001b[43mkwargs\u001b[49m\u001b[43m)\u001b[49m\n",
      "File \u001b[0;32m/opt/conda/lib/python3.11/site-packages/elasticsearch/_sync/client/__init__.py:4429\u001b[0m, in \u001b[0;36mElasticsearch.update\u001b[0;34m(self, index, id, detect_noop, doc, doc_as_upsert, error_trace, filter_path, human, if_primary_term, if_seq_no, lang, pretty, refresh, require_alias, retry_on_conflict, routing, script, scripted_upsert, source, source_excludes, source_includes, timeout, upsert, wait_for_active_shards)\u001b[0m\n\u001b[1;32m   4427\u001b[0m     __query[\u001b[38;5;124m\"\u001b[39m\u001b[38;5;124mwait_for_active_shards\u001b[39m\u001b[38;5;124m\"\u001b[39m] \u001b[38;5;241m=\u001b[39m wait_for_active_shards\n\u001b[1;32m   4428\u001b[0m __headers \u001b[38;5;241m=\u001b[39m {\u001b[38;5;124m\"\u001b[39m\u001b[38;5;124maccept\u001b[39m\u001b[38;5;124m\"\u001b[39m: \u001b[38;5;124m\"\u001b[39m\u001b[38;5;124mapplication/json\u001b[39m\u001b[38;5;124m\"\u001b[39m, \u001b[38;5;124m\"\u001b[39m\u001b[38;5;124mcontent-type\u001b[39m\u001b[38;5;124m\"\u001b[39m: \u001b[38;5;124m\"\u001b[39m\u001b[38;5;124mapplication/json\u001b[39m\u001b[38;5;124m\"\u001b[39m}\n\u001b[0;32m-> 4429\u001b[0m \u001b[38;5;28;01mreturn\u001b[39;00m \u001b[38;5;28;43mself\u001b[39;49m\u001b[38;5;241;43m.\u001b[39;49m\u001b[43mperform_request\u001b[49m\u001b[43m(\u001b[49m\u001b[43m  \u001b[49m\u001b[38;5;66;43;03m# type: ignore[return-value]\u001b[39;49;00m\n\u001b[1;32m   4430\u001b[0m \u001b[43m    \u001b[49m\u001b[38;5;124;43m\"\u001b[39;49m\u001b[38;5;124;43mPOST\u001b[39;49m\u001b[38;5;124;43m\"\u001b[39;49m\u001b[43m,\u001b[49m\u001b[43m \u001b[49m\u001b[43m__path\u001b[49m\u001b[43m,\u001b[49m\u001b[43m \u001b[49m\u001b[43mparams\u001b[49m\u001b[38;5;241;43m=\u001b[39;49m\u001b[43m__query\u001b[49m\u001b[43m,\u001b[49m\u001b[43m \u001b[49m\u001b[43mheaders\u001b[49m\u001b[38;5;241;43m=\u001b[39;49m\u001b[43m__headers\u001b[49m\u001b[43m,\u001b[49m\u001b[43m \u001b[49m\u001b[43mbody\u001b[49m\u001b[38;5;241;43m=\u001b[39;49m\u001b[43m__body\u001b[49m\n\u001b[1;32m   4431\u001b[0m \u001b[43m\u001b[49m\u001b[43m)\u001b[49m\n",
      "File \u001b[0;32m/opt/conda/lib/python3.11/site-packages/elasticsearch/_sync/client/_base.py:320\u001b[0m, in \u001b[0;36mBaseClient.perform_request\u001b[0;34m(self, method, path, params, headers, body)\u001b[0m\n\u001b[1;32m    317\u001b[0m         \u001b[38;5;28;01mexcept\u001b[39;00m (\u001b[38;5;167;01mValueError\u001b[39;00m, \u001b[38;5;167;01mKeyError\u001b[39;00m, \u001b[38;5;167;01mTypeError\u001b[39;00m):\n\u001b[1;32m    318\u001b[0m             \u001b[38;5;28;01mpass\u001b[39;00m\n\u001b[0;32m--> 320\u001b[0m     \u001b[38;5;28;01mraise\u001b[39;00m HTTP_EXCEPTIONS\u001b[38;5;241m.\u001b[39mget(meta\u001b[38;5;241m.\u001b[39mstatus, ApiError)(\n\u001b[1;32m    321\u001b[0m         message\u001b[38;5;241m=\u001b[39mmessage, meta\u001b[38;5;241m=\u001b[39mmeta, body\u001b[38;5;241m=\u001b[39mresp_body\n\u001b[1;32m    322\u001b[0m     )\n\u001b[1;32m    324\u001b[0m \u001b[38;5;66;03m# 'X-Elastic-Product: Elasticsearch' should be on every 2XX response.\u001b[39;00m\n\u001b[1;32m    325\u001b[0m \u001b[38;5;28;01mif\u001b[39;00m \u001b[38;5;129;01mnot\u001b[39;00m \u001b[38;5;28mself\u001b[39m\u001b[38;5;241m.\u001b[39m_verified_elasticsearch:\n\u001b[1;32m    326\u001b[0m     \u001b[38;5;66;03m# If the header is set we mark the server as verified.\u001b[39;00m\n",
      "\u001b[0;31mNotFoundError\u001b[0m: NotFoundError(404, 'document_missing_exception', '[my_document_id]: document missing')"
     ]
    }
   ],
   "source": [
    "es.update(\n",
    "    index=\"meteo\",\n",
    "    id=\"my_document_id\",\n",
    "    doc={\n",
    "        \"foo\": \"bar\",\n",
    "        \"new_field\": \"new value\",\n",
    "    },\n",
    ")"
   ]
  },
  {
   "cell_type": "markdown",
   "id": "e2ffacc3-817c-4224-859f-437122f36375",
   "metadata": {},
   "source": [
    "## Delete a document"
   ]
  },
  {
   "cell_type": "code",
   "execution_count": 12,
   "id": "494c0cba-9d2f-42e4-b9ba-185529818576",
   "metadata": {},
   "outputs": [
    {
     "ename": "NotFoundError",
     "evalue": "NotFoundError(404, \"{'_index': 'meteo', '_id': 'my_document_id', '_version': 1, 'result': 'not_found', '_shards': {'total': 2, 'successful': 1, 'failed': 0}, '_seq_no': 7160741, '_primary_term': 9}\")",
     "output_type": "error",
     "traceback": [
      "\u001b[0;31m---------------------------------------------------------------------------\u001b[0m",
      "\u001b[0;31mNotFoundError\u001b[0m                             Traceback (most recent call last)",
      "Cell \u001b[0;32mIn[12], line 1\u001b[0m\n\u001b[0;32m----> 1\u001b[0m \u001b[43mes\u001b[49m\u001b[38;5;241;43m.\u001b[39;49m\u001b[43mdelete\u001b[49m\u001b[43m(\u001b[49m\u001b[43mindex\u001b[49m\u001b[38;5;241;43m=\u001b[39;49m\u001b[38;5;124;43m\"\u001b[39;49m\u001b[38;5;124;43mmeteo\u001b[39;49m\u001b[38;5;124;43m\"\u001b[39;49m\u001b[43m,\u001b[49m\u001b[43m \u001b[49m\u001b[38;5;28;43mid\u001b[39;49m\u001b[38;5;241;43m=\u001b[39;49m\u001b[38;5;124;43m\"\u001b[39;49m\u001b[38;5;124;43mmy_document_id\u001b[39;49m\u001b[38;5;124;43m\"\u001b[39;49m\u001b[43m)\u001b[49m\n",
      "File \u001b[0;32m/opt/conda/lib/python3.11/site-packages/elasticsearch/_sync/client/utils.py:402\u001b[0m, in \u001b[0;36m_rewrite_parameters.<locals>.wrapper.<locals>.wrapped\u001b[0;34m(*args, **kwargs)\u001b[0m\n\u001b[1;32m    399\u001b[0m         \u001b[38;5;28;01mexcept\u001b[39;00m \u001b[38;5;167;01mKeyError\u001b[39;00m:\n\u001b[1;32m    400\u001b[0m             \u001b[38;5;28;01mpass\u001b[39;00m\n\u001b[0;32m--> 402\u001b[0m \u001b[38;5;28;01mreturn\u001b[39;00m \u001b[43mapi\u001b[49m\u001b[43m(\u001b[49m\u001b[38;5;241;43m*\u001b[39;49m\u001b[43margs\u001b[49m\u001b[43m,\u001b[49m\u001b[43m \u001b[49m\u001b[38;5;241;43m*\u001b[39;49m\u001b[38;5;241;43m*\u001b[39;49m\u001b[43mkwargs\u001b[49m\u001b[43m)\u001b[49m\n",
      "File \u001b[0;32m/opt/conda/lib/python3.11/site-packages/elasticsearch/_sync/client/__init__.py:1096\u001b[0m, in \u001b[0;36mElasticsearch.delete\u001b[0;34m(self, index, id, error_trace, filter_path, human, if_primary_term, if_seq_no, pretty, refresh, routing, timeout, version, version_type, wait_for_active_shards)\u001b[0m\n\u001b[1;32m   1094\u001b[0m     __query[\u001b[38;5;124m\"\u001b[39m\u001b[38;5;124mwait_for_active_shards\u001b[39m\u001b[38;5;124m\"\u001b[39m] \u001b[38;5;241m=\u001b[39m wait_for_active_shards\n\u001b[1;32m   1095\u001b[0m __headers \u001b[38;5;241m=\u001b[39m {\u001b[38;5;124m\"\u001b[39m\u001b[38;5;124maccept\u001b[39m\u001b[38;5;124m\"\u001b[39m: \u001b[38;5;124m\"\u001b[39m\u001b[38;5;124mapplication/json\u001b[39m\u001b[38;5;124m\"\u001b[39m}\n\u001b[0;32m-> 1096\u001b[0m \u001b[38;5;28;01mreturn\u001b[39;00m \u001b[38;5;28;43mself\u001b[39;49m\u001b[38;5;241;43m.\u001b[39;49m\u001b[43mperform_request\u001b[49m\u001b[43m(\u001b[49m\u001b[43m  \u001b[49m\u001b[38;5;66;43;03m# type: ignore[return-value]\u001b[39;49;00m\n\u001b[1;32m   1097\u001b[0m \u001b[43m    \u001b[49m\u001b[38;5;124;43m\"\u001b[39;49m\u001b[38;5;124;43mDELETE\u001b[39;49m\u001b[38;5;124;43m\"\u001b[39;49m\u001b[43m,\u001b[49m\u001b[43m \u001b[49m\u001b[43m__path\u001b[49m\u001b[43m,\u001b[49m\u001b[43m \u001b[49m\u001b[43mparams\u001b[49m\u001b[38;5;241;43m=\u001b[39;49m\u001b[43m__query\u001b[49m\u001b[43m,\u001b[49m\u001b[43m \u001b[49m\u001b[43mheaders\u001b[49m\u001b[38;5;241;43m=\u001b[39;49m\u001b[43m__headers\u001b[49m\n\u001b[1;32m   1098\u001b[0m \u001b[43m\u001b[49m\u001b[43m)\u001b[49m\n",
      "File \u001b[0;32m/opt/conda/lib/python3.11/site-packages/elasticsearch/_sync/client/_base.py:320\u001b[0m, in \u001b[0;36mBaseClient.perform_request\u001b[0;34m(self, method, path, params, headers, body)\u001b[0m\n\u001b[1;32m    317\u001b[0m         \u001b[38;5;28;01mexcept\u001b[39;00m (\u001b[38;5;167;01mValueError\u001b[39;00m, \u001b[38;5;167;01mKeyError\u001b[39;00m, \u001b[38;5;167;01mTypeError\u001b[39;00m):\n\u001b[1;32m    318\u001b[0m             \u001b[38;5;28;01mpass\u001b[39;00m\n\u001b[0;32m--> 320\u001b[0m     \u001b[38;5;28;01mraise\u001b[39;00m HTTP_EXCEPTIONS\u001b[38;5;241m.\u001b[39mget(meta\u001b[38;5;241m.\u001b[39mstatus, ApiError)(\n\u001b[1;32m    321\u001b[0m         message\u001b[38;5;241m=\u001b[39mmessage, meta\u001b[38;5;241m=\u001b[39mmeta, body\u001b[38;5;241m=\u001b[39mresp_body\n\u001b[1;32m    322\u001b[0m     )\n\u001b[1;32m    324\u001b[0m \u001b[38;5;66;03m# 'X-Elastic-Product: Elasticsearch' should be on every 2XX response.\u001b[39;00m\n\u001b[1;32m    325\u001b[0m \u001b[38;5;28;01mif\u001b[39;00m \u001b[38;5;129;01mnot\u001b[39;00m \u001b[38;5;28mself\u001b[39m\u001b[38;5;241m.\u001b[39m_verified_elasticsearch:\n\u001b[1;32m    326\u001b[0m     \u001b[38;5;66;03m# If the header is set we mark the server as verified.\u001b[39;00m\n",
      "\u001b[0;31mNotFoundError\u001b[0m: NotFoundError(404, \"{'_index': 'meteo', '_id': 'my_document_id', '_version': 1, 'result': 'not_found', '_shards': {'total': 2, 'successful': 1, 'failed': 0}, '_seq_no': 7160741, '_primary_term': 9}\")"
     ]
    }
   ],
   "source": [
    "es.delete(index=\"meteo\", id=\"my_document_id\")"
   ]
  },
  {
   "cell_type": "markdown",
   "id": "ab4566aa-6119-4480-be27-6116f13bef44",
   "metadata": {},
   "source": [
    "## Delete an index"
   ]
  },
  {
   "cell_type": "code",
   "execution_count": 34,
   "id": "e2cc8b0f-d19c-4e37-a420-c86b754ac971",
   "metadata": {},
   "outputs": [
    {
     "name": "stdin",
     "output_type": "stream",
     "text": [
      "index to delete:  meteo\n"
     ]
    },
    {
     "data": {
      "text/plain": [
       "ObjectApiResponse({'acknowledged': True})"
      ]
     },
     "execution_count": 34,
     "metadata": {},
     "output_type": "execute_result"
    }
   ],
   "source": [
    "index = input('index to delete: ')\n",
    "es.indices.delete(index=index)"
   ]
  },
  {
   "cell_type": "markdown",
   "id": "1df92cf6-939a-49ea-944d-6fb25b5beaab",
   "metadata": {},
   "source": [
    "## Information about an index\n",
    "You can enter the name of the index, but also '*', or a list of index names: ['index_1', 'index_2', ...]"
   ]
  },
  {
   "cell_type": "code",
   "execution_count": 33,
   "id": "1fd20375-3cf9-41d0-bb30-73a43ecabc2b",
   "metadata": {},
   "outputs": [
    {
     "name": "stdin",
     "output_type": "stream",
     "text": [
      "index name:  meteo\n"
     ]
    },
    {
     "name": "stdout",
     "output_type": "stream",
     "text": [
      "{'meteo': {'aliases': {}, 'mappings': {}, 'settings': {'index': {'routing': {'allocation': {'include': {'_tier_preference': 'data_content'}}}, 'number_of_shards': '1', 'provided_name': 'meteo', 'creation_date': '1700474388859', 'number_of_replicas': '1', 'uuid': '9RxhS57vR0u8tlIMM94jdw', 'version': {'created': '8100299'}}}}}\n"
     ]
    }
   ],
   "source": [
    "index = input('index name: ')\n",
    "index_info = es.indices.get(index=index)\n",
    "print(index_info)\n"
   ]
  },
  {
   "cell_type": "markdown",
   "id": "715d4fb8-0927-41b1-963f-87729bb8e4af",
   "metadata": {},
   "source": [
    "# Insert ndjson file"
   ]
  },
  {
   "cell_type": "code",
   "execution_count": 61,
   "id": "0ac37c87-af62-4c88-96a0-40d7a706c4df",
   "metadata": {},
   "outputs": [],
   "source": [
    "import json\n",
    "\n",
    "def read_ndjson_file(file_path):\n",
    "    data = []\n",
    "    with open(file_path, 'r') as file:\n",
    "        for line in file:\n",
    "            data.append(json.loads(line))\n",
    "    return data\n"
   ]
  },
  {
   "cell_type": "code",
   "execution_count": 62,
   "id": "e64c2f80-17da-4612-b52e-0a309a4fdb0d",
   "metadata": {},
   "outputs": [],
   "source": [
    "def generate_bulk_actions(data, index_name):\n",
    "    for record in data:\n",
    "        yield {\n",
    "            \"_index\": index_name,\n",
    "            \"_source\": record,\n",
    "        }\n"
   ]
  },
  {
   "cell_type": "code",
   "execution_count": 63,
   "id": "44a02b0c-77d0-49d5-9eec-d0eef84bbab9",
   "metadata": {},
   "outputs": [
    {
     "data": {
      "text/plain": [
       "(407, [])"
      ]
     },
     "execution_count": 63,
     "metadata": {},
     "output_type": "execute_result"
    }
   ],
   "source": [
    "from elasticsearch import Elasticsearch, helpers\n",
    "\n",
    "# Connexion to Elasticsearch\n",
    "es = Elasticsearch(\"http://elasticsearch:9200\")\n",
    "\n",
    "# file\n",
    "file_path = '/home/jovyan/extraction/test_mouleconnected.ndjson'\n",
    "\n",
    "\n",
    "data = read_ndjson_file(file_path)\n",
    "\n",
    "index_name = 'mouleconnected'\n",
    "\n",
    "# send batch data to elastic\n",
    "helpers.bulk(es, generate_bulk_actions(data, index_name))\n",
    "\n"
   ]
  },
  {
   "cell_type": "code",
   "execution_count": null,
   "id": "52dc1b3b-ecc1-4782-8335-97405b1920b9",
   "metadata": {},
   "outputs": [],
   "source": []
  }
 ],
 "metadata": {
  "kernelspec": {
   "display_name": "Python 3 (ipykernel)",
   "language": "python",
   "name": "python3"
  },
  "language_info": {
   "codemirror_mode": {
    "name": "ipython",
    "version": 3
   },
   "file_extension": ".py",
   "mimetype": "text/x-python",
   "name": "python",
   "nbconvert_exporter": "python",
   "pygments_lexer": "ipython3",
   "version": "3.11.6"
  }
 },
 "nbformat": 4,
 "nbformat_minor": 5
}
